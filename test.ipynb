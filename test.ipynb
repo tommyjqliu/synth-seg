{
 "cells": [
  {
   "cell_type": "code",
   "execution_count": 54,
   "metadata": {},
   "outputs": [
    {
     "name": "stdout",
     "output_type": "stream",
     "text": [
      "Compiling list of unique labels\n",
      "processing 1/1\n",
      "WARNING:tensorflow:5 out of the last 5 calls to <function TensorFlowTrainer.make_predict_function.<locals>.one_step_on_data_distributed at 0x7f6690ff0c20> triggered tf.function retracing. Tracing is expensive and the excessive number of tracings could be due to (1) creating @tf.function repeatedly in a loop, (2) passing tensors with different shapes, (3) passing Python objects instead of tensors. For (1), please define your @tf.function outside of the loop. For (2), @tf.function has reduce_retracing=True option that can avoid unnecessary retracing. For (3), please refer to https://www.tensorflow.org/guide/function#controlling_retracing and https://www.tensorflow.org/api_docs/python/tf/function for  more details.\n",
      "\u001b[1m1/1\u001b[0m \u001b[32m━━━━━━━━━━━━━━━━━━━━\u001b[0m\u001b[37m\u001b[0m \u001b[1m3s\u001b[0m 3s/step\n"
     ]
    }
   ],
   "source": [
    "import os\n",
    "from SynthSeg.brain_generator import BrainGenerator\n",
    "\n",
    "os.environ[\"CUDA_VISIBLE_DEVICES\"] = \"-1\"\n",
    "# generate an image from the label map.\n",
    "# brain_generator = BrainGenerator('../../data/training_label_maps/training_seg_01.nii.gz')\n",
    "# brain_generator = BrainGenerator('data/training_label_maps/training_seg_01.nii.gz')\n",
    "brain_generator = BrainGenerator('data/uwa_aaa/Patient1/Segmentation/CT_AAA_Blood_label.nii.gz')\n",
    "im, lab, model_inputs = brain_generator.generate_brain()\n"
   ]
  },
  {
   "cell_type": "code",
   "execution_count": 53,
   "metadata": {},
   "outputs": [
    {
     "data": {
      "text/plain": [
       "(1, 54, 1)"
      ]
     },
     "execution_count": 53,
     "metadata": {},
     "output_type": "execute_result"
    }
   ],
   "source": [
    "model_inputs[1].shape"
   ]
  },
  {
   "cell_type": "code",
   "execution_count": 3,
   "metadata": {},
   "outputs": [
    {
     "data": {
      "text/plain": [
       "array([[[19.45069346],\n",
       "        [26.63017345],\n",
       "        [ 2.32419225],\n",
       "        [20.74924893],\n",
       "        [ 0.08248353],\n",
       "        [25.24939632],\n",
       "        [ 8.85058453],\n",
       "        [ 5.17335958],\n",
       "        [10.01516394],\n",
       "        [29.41106124],\n",
       "        [ 5.32458519],\n",
       "        [ 1.83548303],\n",
       "        [25.77486495],\n",
       "        [19.15923442],\n",
       "        [26.3288188 ],\n",
       "        [28.57904592],\n",
       "        [23.46630608],\n",
       "        [22.14161455],\n",
       "        [27.7504041 ],\n",
       "        [18.61754149],\n",
       "        [26.98620703],\n",
       "        [ 1.59838365],\n",
       "        [ 5.40866286],\n",
       "        [18.00182671],\n",
       "        [14.57276772],\n",
       "        [14.91758841],\n",
       "        [10.86688158],\n",
       "        [15.21935378],\n",
       "        [16.35271472],\n",
       "        [10.64982597],\n",
       "        [21.79141096],\n",
       "        [ 9.7345543 ],\n",
       "        [ 5.96944176],\n",
       "        [ 7.05161187],\n",
       "        [ 1.49035347],\n",
       "        [20.69162264],\n",
       "        [19.87157294],\n",
       "        [ 4.13253066],\n",
       "        [14.01964615],\n",
       "        [12.07547914],\n",
       "        [ 6.69281997],\n",
       "        [ 7.05284266],\n",
       "        [12.73848373],\n",
       "        [20.36310705],\n",
       "        [16.38128781],\n",
       "        [21.42894801],\n",
       "        [18.2748912 ],\n",
       "        [21.56430554],\n",
       "        [16.20819156],\n",
       "        [ 2.05318388],\n",
       "        [28.72273647],\n",
       "        [23.73696568],\n",
       "        [22.93634116],\n",
       "        [18.46203361]]])"
      ]
     },
     "execution_count": 3,
     "metadata": {},
     "output_type": "execute_result"
    }
   ],
   "source": [
    "model_inputs[2]"
   ]
  },
  {
   "cell_type": "code",
   "execution_count": 55,
   "metadata": {},
   "outputs": [
    {
     "data": {
      "application/vnd.jupyter.widget-view+json": {
       "model_id": "608a8f6a52fa4249a9feac96ea75a4f1",
       "version_major": 2,
       "version_minor": 0
      },
      "text/plain": [
       "interactive(children=(IntSlider(value=0, description='slice_index_0', max=125), IntSlider(value=0, description…"
      ]
     },
     "metadata": {},
     "output_type": "display_data"
    }
   ],
   "source": [
    "from utils.check_image import check_image\n",
    "\n",
    "\n",
    "check_image(\n",
    "    [\n",
    "        {\"image\": im, \"title\": \"image\", \"is_label\": False},\n",
    "        {\"image\": lab, \"title\": \"label\", \"is_label\": True},\n",
    "        {\n",
    "            \"image\": model_inputs[0][0, :, :, :, 0],\n",
    "            \"title\": \"input 0\",\n",
    "            \"is_label\": True,\n",
    "        },\n",
    "    ]\n",
    ")"
   ]
  },
  {
   "cell_type": "code",
   "execution_count": 52,
   "metadata": {},
   "outputs": [
    {
     "data": {
      "text/plain": [
       "array([1.90061894, 3.50953829, 3.59833678])"
      ]
     },
     "execution_count": 52,
     "metadata": {},
     "output_type": "execute_result"
    }
   ],
   "source": [
    "import numpy as np\n",
    "\n",
    "np.random.uniform(low=[1, 2, 3], high=[4, 5, 6])"
   ]
  }
 ],
 "metadata": {
  "kernelspec": {
   "display_name": "seg_3.12",
   "language": "python",
   "name": "python3"
  },
  "language_info": {
   "codemirror_mode": {
    "name": "ipython",
    "version": 3
   },
   "file_extension": ".py",
   "mimetype": "text/x-python",
   "name": "python",
   "nbconvert_exporter": "python",
   "pygments_lexer": "ipython3",
   "version": "3.12.4"
  }
 },
 "nbformat": 4,
 "nbformat_minor": 2
}
