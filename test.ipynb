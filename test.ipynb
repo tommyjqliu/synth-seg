{
 "cells": [
  {
   "cell_type": "code",
   "execution_count": 3,
   "metadata": {},
   "outputs": [
    {
     "name": "stdout",
     "output_type": "stream",
     "text": [
      "Compiling list of unique labels\n",
      "processing 1/1\n",
      "\u001b[1m1/1\u001b[0m \u001b[32m━━━━━━━━━━━━━━━━━━━━\u001b[0m\u001b[37m\u001b[0m \u001b[1m13s\u001b[0m 13s/step\n"
     ]
    }
   ],
   "source": [
    "from ext.lab2im import utils\n",
    "from SynthSeg.brain_generator import BrainGenerator\n",
    "\n",
    "# generate an image from the label map.\n",
    "# brain_generator = BrainGenerator('../../data/training_label_maps/training_seg_01.nii.gz')\n",
    "brain_generator = BrainGenerator('./data/ab2/test_label.nii.gz')\n",
    "im, lab = brain_generator.generate_brain()\n",
    "\n",
    "# save output image and label map under SynthSeg/generated_examples\n",
    "utils.save_volume(im, brain_generator.aff, brain_generator.header, './outputs_tutorial_1/image.nii.gz')\n",
    "utils.save_volume(lab, brain_generator.aff, brain_generator.header, './outputs_tutorial_1/labels.nii.gz')\n"
   ]
  },
  {
   "cell_type": "code",
   "execution_count": null,
   "metadata": {},
   "outputs": [],
   "source": []
  }
 ],
 "metadata": {
  "kernelspec": {
   "display_name": "seg_3.12",
   "language": "python",
   "name": "python3"
  },
  "language_info": {
   "codemirror_mode": {
    "name": "ipython",
    "version": 3
   },
   "file_extension": ".py",
   "mimetype": "text/x-python",
   "name": "python",
   "nbconvert_exporter": "python",
   "pygments_lexer": "ipython3",
   "version": "3.12.4"
  }
 },
 "nbformat": 4,
 "nbformat_minor": 2
}
